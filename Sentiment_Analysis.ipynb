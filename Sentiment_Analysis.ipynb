{
  "nbformat": 4,
  "nbformat_minor": 0,
  "metadata": {
    "colab": {
      "name": "Sentiment Analysis.ipynb",
      "provenance": [],
      "collapsed_sections": [],
      "authorship_tag": "ABX9TyM8MPXo5jT37J9V116OY7s7",
      "include_colab_link": true
    },
    "kernelspec": {
      "name": "python3",
      "display_name": "Python 3"
    },
    "language_info": {
      "name": "python"
    }
  },
  "cells": [
    {
      "cell_type": "markdown",
      "metadata": {
        "id": "view-in-github",
        "colab_type": "text"
      },
      "source": [
        "<a href=\"https://colab.research.google.com/github/charan-o2/Major/blob/main/Sentiment_Analysis.ipynb\" target=\"_parent\"><img src=\"https://colab.research.google.com/assets/colab-badge.svg\" alt=\"Open In Colab\"/></a>"
      ]
    },
    {
      "cell_type": "code",
      "metadata": {
        "id": "x2A1ttFHaitM"
      },
      "source": [
        "#Instaliing Vadesentiment Analyzer"
      ],
      "execution_count": 18,
      "outputs": []
    },
    {
      "cell_type": "code",
      "metadata": {
        "colab": {
          "base_uri": "https://localhost:8080/"
        },
        "id": "MpmliSiDic2I",
        "outputId": "f2a9308a-122d-4609-a558-9795b0474f56"
      },
      "source": [
        "!pip install vaderSentiment"
      ],
      "execution_count": 19,
      "outputs": [
        {
          "output_type": "stream",
          "text": [
            "Collecting vaderSentiment\n",
            "\u001b[?25l  Downloading https://files.pythonhosted.org/packages/76/fc/310e16254683c1ed35eeb97386986d6c00bc29df17ce280aed64d55537e9/vaderSentiment-3.3.2-py2.py3-none-any.whl (125kB)\n",
            "\r\u001b[K     |██▋                             | 10kB 7.8MB/s eta 0:00:01\r\u001b[K     |█████▏                          | 20kB 12.2MB/s eta 0:00:01\r\u001b[K     |███████▉                        | 30kB 15.8MB/s eta 0:00:01\r\u001b[K     |██████████▍                     | 40kB 18.9MB/s eta 0:00:01\r\u001b[K     |█████████████                   | 51kB 14.8MB/s eta 0:00:01\r\u001b[K     |███████████████▋                | 61kB 14.2MB/s eta 0:00:01\r\u001b[K     |██████████████████▏             | 71kB 14.1MB/s eta 0:00:01\r\u001b[K     |████████████████████▉           | 81kB 14.0MB/s eta 0:00:01\r\u001b[K     |███████████████████████▍        | 92kB 14.9MB/s eta 0:00:01\r\u001b[K     |██████████████████████████      | 102kB 12.5MB/s eta 0:00:01\r\u001b[K     |████████████████████████████▋   | 112kB 12.5MB/s eta 0:00:01\r\u001b[K     |███████████████████████████████▏| 122kB 12.5MB/s eta 0:00:01\r\u001b[K     |████████████████████████████████| 133kB 12.5MB/s \n",
            "\u001b[?25hRequirement already satisfied: requests in /usr/local/lib/python3.7/dist-packages (from vaderSentiment) (2.23.0)\n",
            "Requirement already satisfied: idna<3,>=2.5 in /usr/local/lib/python3.7/dist-packages (from requests->vaderSentiment) (2.10)\n",
            "Requirement already satisfied: chardet<4,>=3.0.2 in /usr/local/lib/python3.7/dist-packages (from requests->vaderSentiment) (3.0.4)\n",
            "Requirement already satisfied: certifi>=2017.4.17 in /usr/local/lib/python3.7/dist-packages (from requests->vaderSentiment) (2020.12.5)\n",
            "Requirement already satisfied: urllib3!=1.25.0,!=1.25.1,<1.26,>=1.21.1 in /usr/local/lib/python3.7/dist-packages (from requests->vaderSentiment) (1.24.3)\n",
            "Installing collected packages: vaderSentiment\n",
            "Successfully installed vaderSentiment-3.3.2\n"
          ],
          "name": "stdout"
        }
      ]
    },
    {
      "cell_type": "code",
      "metadata": {
        "id": "70_-ghm0inKi"
      },
      "source": [
        "from vaderSentiment.vaderSentiment import SentimentIntensityAnalyzer\n",
        "vs = SentimentIntensityAnalyzer()"
      ],
      "execution_count": 20,
      "outputs": []
    },
    {
      "cell_type": "code",
      "metadata": {
        "id": "zJmbmol1g9LT"
      },
      "source": [
        "#example"
      ],
      "execution_count": 21,
      "outputs": []
    },
    {
      "cell_type": "code",
      "metadata": {
        "colab": {
          "base_uri": "https://localhost:8080/"
        },
        "id": "ON3Y7u9ci6dF",
        "outputId": "bdcc418b-b278-49fd-ea6a-637ce2d65a63"
      },
      "source": [
        "text = 'the product is awesome'\n",
        "vs.polarity_scores(text)"
      ],
      "execution_count": 22,
      "outputs": [
        {
          "output_type": "execute_result",
          "data": {
            "text/plain": [
              "{'compound': 0.6249, 'neg': 0.0, 'neu': 0.423, 'pos': 0.577}"
            ]
          },
          "metadata": {
            "tags": []
          },
          "execution_count": 22
        }
      ]
    },
    {
      "cell_type": "code",
      "metadata": {
        "id": "7HvEW_bhjFAj"
      },
      "source": [
        "#WebScraping"
      ],
      "execution_count": 23,
      "outputs": []
    },
    {
      "cell_type": "code",
      "metadata": {
        "id": "EA1b3_bijbzB"
      },
      "source": [
        "import requests\n",
        "from bs4 import BeautifulSoup\n",
        "import pandas as pd\n",
        "import numpy as np\n",
        "import os"
      ],
      "execution_count": 24,
      "outputs": []
    },
    {
      "cell_type": "code",
      "metadata": {
        "id": "ld9H5Us1hAWS"
      },
      "source": [
        "#Gathering Data"
      ],
      "execution_count": 25,
      "outputs": []
    },
    {
      "cell_type": "code",
      "metadata": {
        "colab": {
          "base_uri": "https://localhost:8080/",
          "height": 195
        },
        "id": "e6MFg3ql0KX2",
        "outputId": "83220b87-f39c-45ba-a776-76fe51097d27"
      },
      "source": [
        "import pandas as pd\n",
        "df = pd.read_csv('/content/archive (1).zip')\n",
        "df = df.drop(columns=['product_id','location','date','upvotes','downvotes','rating'])\n",
        "df.head()"
      ],
      "execution_count": 27,
      "outputs": [
        {
          "output_type": "execute_result",
          "data": {
            "text/html": [
              "<div>\n",
              "<style scoped>\n",
              "    .dataframe tbody tr th:only-of-type {\n",
              "        vertical-align: middle;\n",
              "    }\n",
              "\n",
              "    .dataframe tbody tr th {\n",
              "        vertical-align: top;\n",
              "    }\n",
              "\n",
              "    .dataframe thead th {\n",
              "        text-align: right;\n",
              "    }\n",
              "</style>\n",
              "<table border=\"1\" class=\"dataframe\">\n",
              "  <thead>\n",
              "    <tr style=\"text-align: right;\">\n",
              "      <th></th>\n",
              "      <th>product_title</th>\n",
              "      <th>summary</th>\n",
              "      <th>review</th>\n",
              "    </tr>\n",
              "  </thead>\n",
              "  <tbody>\n",
              "    <tr>\n",
              "      <th>0</th>\n",
              "      <td>BoAt Rockerz 235v2 with ASAP charging Version ...</td>\n",
              "      <td>Terrific purchase</td>\n",
              "      <td>1-more flexible2-bass is very high3-sound clar...</td>\n",
              "    </tr>\n",
              "    <tr>\n",
              "      <th>1</th>\n",
              "      <td>BoAt Rockerz 235v2 with ASAP charging Version ...</td>\n",
              "      <td>Terrific purchase</td>\n",
              "      <td>Super sound and good looking I like that prize</td>\n",
              "    </tr>\n",
              "    <tr>\n",
              "      <th>2</th>\n",
              "      <td>BoAt Rockerz 235v2 with ASAP charging Version ...</td>\n",
              "      <td>Super!</td>\n",
              "      <td>Very much satisfied with the device at this pr...</td>\n",
              "    </tr>\n",
              "    <tr>\n",
              "      <th>3</th>\n",
              "      <td>BoAt Rockerz 235v2 with ASAP charging Version ...</td>\n",
              "      <td>Super!</td>\n",
              "      <td>Nice headphone, bass was very good and sound i...</td>\n",
              "    </tr>\n",
              "    <tr>\n",
              "      <th>4</th>\n",
              "      <td>BoAt Rockerz 235v2 with ASAP charging Version ...</td>\n",
              "      <td>Terrific purchase</td>\n",
              "      <td>Sound quality super battery backup super quali...</td>\n",
              "    </tr>\n",
              "  </tbody>\n",
              "</table>\n",
              "</div>"
            ],
            "text/plain": [
              "                                       product_title  ...                                             review\n",
              "0  BoAt Rockerz 235v2 with ASAP charging Version ...  ...  1-more flexible2-bass is very high3-sound clar...\n",
              "1  BoAt Rockerz 235v2 with ASAP charging Version ...  ...     Super sound and good looking I like that prize\n",
              "2  BoAt Rockerz 235v2 with ASAP charging Version ...  ...  Very much satisfied with the device at this pr...\n",
              "3  BoAt Rockerz 235v2 with ASAP charging Version ...  ...  Nice headphone, bass was very good and sound i...\n",
              "4  BoAt Rockerz 235v2 with ASAP charging Version ...  ...  Sound quality super battery backup super quali...\n",
              "\n",
              "[5 rows x 3 columns]"
            ]
          },
          "metadata": {
            "tags": []
          },
          "execution_count": 27
        }
      ]
    },
    {
      "cell_type": "code",
      "metadata": {
        "id": "pc4D914PhJHo"
      },
      "source": [
        "#importing NLTK Library"
      ],
      "execution_count": 28,
      "outputs": []
    },
    {
      "cell_type": "code",
      "metadata": {
        "colab": {
          "base_uri": "https://localhost:8080/"
        },
        "id": "neV9f4oO33UO",
        "outputId": "35ee70ee-f8e7-49d7-df36-08d8b14f9af2"
      },
      "source": [
        "import nltk\n",
        "nltk.download('stopwords')\n",
        "stopword_list = nltk.corpus.stopwords.words('english')\n",
        "stopword_list.remove('no')\n",
        "stopword_list.remove('not')\n",
        "len(stopword_list)"
      ],
      "execution_count": 29,
      "outputs": [
        {
          "output_type": "stream",
          "text": [
            "[nltk_data] Downloading package stopwords to /root/nltk_data...\n",
            "[nltk_data]   Unzipping corpora/stopwords.zip.\n"
          ],
          "name": "stdout"
        },
        {
          "output_type": "execute_result",
          "data": {
            "text/plain": [
              "177"
            ]
          },
          "metadata": {
            "tags": []
          },
          "execution_count": 29
        }
      ]
    },
    {
      "cell_type": "code",
      "metadata": {
        "colab": {
          "base_uri": "https://localhost:8080/",
          "height": 35
        },
        "id": "7BSnvzxB6Uh-",
        "outputId": "427d7b83-3e07-435e-d659-eb063e16dec2"
      },
      "source": [
        "#remove HTML Tag\n",
        "def html_tag(text):\n",
        "  soup = BeautifulSoup(text,\"html.parser\")\n",
        "  new_text = soup.get_text()\n",
        "  return new_text\n",
        "\n",
        "html_tag('<html><h2> some important info </h2></html>')"
      ],
      "execution_count": 30,
      "outputs": [
        {
          "output_type": "execute_result",
          "data": {
            "application/vnd.google.colaboratory.intrinsic+json": {
              "type": "string"
            },
            "text/plain": [
              "' some important info '"
            ]
          },
          "metadata": {
            "tags": []
          },
          "execution_count": 30
        }
      ]
    },
    {
      "cell_type": "code",
      "metadata": {
        "id": "Ra9m7mYBhQIO"
      },
      "source": [
        "#Removing Contractions"
      ],
      "execution_count": 31,
      "outputs": []
    },
    {
      "cell_type": "code",
      "metadata": {
        "colab": {
          "base_uri": "https://localhost:8080/",
          "height": 102
        },
        "id": "2VUv1jW47xkB",
        "outputId": "50562d29-cff0-40f4-c45f-45d8f874ab30"
      },
      "source": [
        "!pip install contractions\n",
        "import contractions\n",
        "def con(text):\n",
        "  expand  = contractions.fix(text)\n",
        "  return expand\n",
        "\n",
        "con(\"y'all can't be expand I'd think\")"
      ],
      "execution_count": 32,
      "outputs": [
        {
          "output_type": "stream",
          "text": [
            "Requirement already satisfied: contractions in /usr/local/lib/python3.7/dist-packages (0.0.48)\n",
            "Requirement already satisfied: textsearch>=0.0.21 in /usr/local/lib/python3.7/dist-packages (from contractions) (0.0.21)\n",
            "Requirement already satisfied: anyascii in /usr/local/lib/python3.7/dist-packages (from textsearch>=0.0.21->contractions) (0.1.7)\n",
            "Requirement already satisfied: pyahocorasick in /usr/local/lib/python3.7/dist-packages (from textsearch>=0.0.21->contractions) (1.4.2)\n"
          ],
          "name": "stdout"
        },
        {
          "output_type": "execute_result",
          "data": {
            "application/vnd.google.colaboratory.intrinsic+json": {
              "type": "string"
            },
            "text/plain": [
              "'you all can not be expand I would think'"
            ]
          },
          "metadata": {
            "tags": []
          },
          "execution_count": 32
        }
      ]
    },
    {
      "cell_type": "code",
      "metadata": {
        "id": "ktjmVhHjhZgw"
      },
      "source": [
        "#Removing SpecialCharacters"
      ],
      "execution_count": 33,
      "outputs": []
    },
    {
      "cell_type": "code",
      "metadata": {
        "colab": {
          "base_uri": "https://localhost:8080/",
          "height": 35
        },
        "id": "PzBdRNkK8n9b",
        "outputId": "fa6e0ec0-cc74-41da-fa58-ba37b9f2bb31"
      },
      "source": [
        "import re\n",
        "def remove_sp(text):\n",
        "  pattern = r'[^A-Za-z0-9\\s]'\n",
        "  text =re.sub(pattern,'',text)\n",
        "  return text\n",
        "\n",
        "remove_sp(\"well this was fun! what do you think?123\")"
      ],
      "execution_count": 34,
      "outputs": [
        {
          "output_type": "execute_result",
          "data": {
            "application/vnd.google.colaboratory.intrinsic+json": {
              "type": "string"
            },
            "text/plain": [
              "'well this was fun what do you think123'"
            ]
          },
          "metadata": {
            "tags": []
          },
          "execution_count": 34
        }
      ]
    },
    {
      "cell_type": "code",
      "metadata": {
        "id": "J60MpUlGhjZs"
      },
      "source": [
        "#Tokenization"
      ],
      "execution_count": 35,
      "outputs": []
    },
    {
      "cell_type": "code",
      "metadata": {
        "id": "6hiVKsu0--Q_"
      },
      "source": [
        "from nltk.tokenize.toktok import ToktokTokenizer\n",
        "tokenizer = ToktokTokenizer()"
      ],
      "execution_count": 36,
      "outputs": []
    },
    {
      "cell_type": "code",
      "metadata": {
        "id": "hhHIjLHc92Ns"
      },
      "source": [
        "def remove_stopwords(text):\n",
        "  tokens = tokenizer.tokenize(text)\n",
        "  tokens = [token.strip() for token in tokens]\n",
        "  filtered_tokens = [token for token in tokens if token not in stopword_list]\n",
        "  filtered_text = ' '.join(filtered_tokens)\n",
        "  return filtered_text"
      ],
      "execution_count": 37,
      "outputs": []
    },
    {
      "cell_type": "code",
      "metadata": {
        "colab": {
          "base_uri": "https://localhost:8080/",
          "height": 35
        },
        "id": "YFmC2Vpb-ync",
        "outputId": "c19d10dc-3420-4dec-eb94-4cf8ca98abe9"
      },
      "source": [
        "remove_stopwords(\"the,and,if are all stopwords and even not\")"
      ],
      "execution_count": 38,
      "outputs": [
        {
          "output_type": "execute_result",
          "data": {
            "application/vnd.google.colaboratory.intrinsic+json": {
              "type": "string"
            },
            "text/plain": [
              "', , stopwords even not'"
            ]
          },
          "metadata": {
            "tags": []
          },
          "execution_count": 38
        }
      ]
    },
    {
      "cell_type": "code",
      "metadata": {
        "colab": {
          "base_uri": "https://localhost:8080/",
          "height": 35
        },
        "id": "HDYACDxJgGny",
        "outputId": "04dda364-cba9-4cbd-f0b1-31e3a7ae266c"
      },
      "source": [
        "def remove_numbers(text):\n",
        "        \"\"\"\n",
        "        take string input and return a clean text without numbers.\n",
        "        Use regex to discard the numbers.\n",
        "        \"\"\"\n",
        "        output = ''.join(c for c in text if not c.isdigit())\n",
        "        return output \n",
        "\n",
        "remove_numbers(\"there are 3 balls\")"
      ],
      "execution_count": 39,
      "outputs": [
        {
          "output_type": "execute_result",
          "data": {
            "application/vnd.google.colaboratory.intrinsic+json": {
              "type": "string"
            },
            "text/plain": [
              "'there are  balls'"
            ]
          },
          "metadata": {
            "tags": []
          },
          "execution_count": 39
        }
      ]
    },
    {
      "cell_type": "code",
      "metadata": {
        "colab": {
          "base_uri": "https://localhost:8080/",
          "height": 195
        },
        "id": "ivxxlkAA_Rit",
        "outputId": "f106c392-a28b-43fc-ca1a-ebc07f7b544a"
      },
      "source": [
        "df.product_title = df.product_title.apply(lambda x:x.lower())\n",
        "df.summary = df.summary.apply(lambda x:x.lower())\n",
        "df.review = df.review.apply(lambda x:x.lower())\n",
        "\n",
        "df.product_title = df.product_title.apply(html_tag)\n",
        "df.summary = df.summary.apply(html_tag)\n",
        "df.review = df.review.apply(html_tag)\n",
        "\n",
        "\n",
        "df.product_title = df.product_title.apply(con)\n",
        "df.summary = df.summary.apply(con)\n",
        "df.review = df.review.apply(con)\n",
        "\n",
        "\n",
        "df.product_title = df.product_title.apply(remove_sp)\n",
        "df.summary = df.summary.apply(remove_sp)\n",
        "df.review = df.review.apply(remove_sp)\n",
        "\n",
        "\n",
        "df.product_title = df.product_title.apply(remove_stopwords)\n",
        "df.summary = df.summary.apply(remove_stopwords)\n",
        "df.review = df.review.apply(remove_stopwords)\n",
        "\n",
        "df.product_title = df.product_title.apply(remove_numbers)\n",
        "df.summary = df.summary.apply(remove_numbers)\n",
        "df.review = df.review.apply(remove_numbers)\n",
        "\n",
        "df.head()"
      ],
      "execution_count": 41,
      "outputs": [
        {
          "output_type": "execute_result",
          "data": {
            "text/html": [
              "<div>\n",
              "<style scoped>\n",
              "    .dataframe tbody tr th:only-of-type {\n",
              "        vertical-align: middle;\n",
              "    }\n",
              "\n",
              "    .dataframe tbody tr th {\n",
              "        vertical-align: top;\n",
              "    }\n",
              "\n",
              "    .dataframe thead th {\n",
              "        text-align: right;\n",
              "    }\n",
              "</style>\n",
              "<table border=\"1\" class=\"dataframe\">\n",
              "  <thead>\n",
              "    <tr style=\"text-align: right;\">\n",
              "      <th></th>\n",
              "      <th>product_title</th>\n",
              "      <th>summary</th>\n",
              "      <th>review</th>\n",
              "    </tr>\n",
              "  </thead>\n",
              "  <tbody>\n",
              "    <tr>\n",
              "      <th>0</th>\n",
              "      <td>boat rockerz v soon possible charging version ...</td>\n",
              "      <td>terrific purchase</td>\n",
              "      <td>more flexiblebass highsound clarity good batte...</td>\n",
              "    </tr>\n",
              "    <tr>\n",
              "      <th>1</th>\n",
              "      <td>boat rockerz v soon possible charging version ...</td>\n",
              "      <td>terrific purchase</td>\n",
              "      <td>super sound good looking like prize</td>\n",
              "    </tr>\n",
              "    <tr>\n",
              "      <th>2</th>\n",
              "      <td>boat rockerz v soon possible charging version ...</td>\n",
              "      <td>super</td>\n",
              "      <td>much satisfied device price point awesome bran...</td>\n",
              "    </tr>\n",
              "    <tr>\n",
              "      <th>3</th>\n",
              "      <td>boat rockerz v soon possible charging version ...</td>\n",
              "      <td>super</td>\n",
              "      <td>nice headphone bass good sound clear purchase ...</td>\n",
              "    </tr>\n",
              "    <tr>\n",
              "      <th>4</th>\n",
              "      <td>boat rockerz v soon possible charging version ...</td>\n",
              "      <td>terrific purchase</td>\n",
              "      <td>sound quality super battery backup super quali...</td>\n",
              "    </tr>\n",
              "  </tbody>\n",
              "</table>\n",
              "</div>"
            ],
            "text/plain": [
              "                                       product_title  ...                                             review\n",
              "0  boat rockerz v soon possible charging version ...  ...  more flexiblebass highsound clarity good batte...\n",
              "1  boat rockerz v soon possible charging version ...  ...                super sound good looking like prize\n",
              "2  boat rockerz v soon possible charging version ...  ...  much satisfied device price point awesome bran...\n",
              "3  boat rockerz v soon possible charging version ...  ...  nice headphone bass good sound clear purchase ...\n",
              "4  boat rockerz v soon possible charging version ...  ...  sound quality super battery backup super quali...\n",
              "\n",
              "[5 rows x 3 columns]"
            ]
          },
          "metadata": {
            "tags": []
          },
          "execution_count": 41
        }
      ]
    },
    {
      "cell_type": "code",
      "metadata": {
        "id": "7EFk5CLIHW0l"
      },
      "source": [
        ""
      ],
      "execution_count": null,
      "outputs": []
    }
  ]
}